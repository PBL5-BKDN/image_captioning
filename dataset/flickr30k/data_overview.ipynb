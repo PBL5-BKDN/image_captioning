{
 "cells": [
  {
   "cell_type": "code",
   "id": "initial_id",
   "metadata": {
    "collapsed": true,
    "ExecuteTime": {
     "end_time": "2025-05-15T02:41:55.283160Z",
     "start_time": "2025-05-15T02:41:54.521461Z"
    }
   },
   "source": [
    "import pandas as pd\n",
    "df = pd.read_csv(\"flickr_annotations_30k.csv\")"
   ],
   "outputs": [],
   "execution_count": 1
  },
  {
   "metadata": {
    "ExecuteTime": {
     "end_time": "2025-05-15T02:42:01.365142Z",
     "start_time": "2025-05-15T02:42:01.344104Z"
    }
   },
   "cell_type": "code",
   "source": "df",
   "id": "9a229f13c1eae5e",
   "outputs": [
    {
     "data": {
      "text/plain": [
       "                                                     raw  \\\n",
       "0      [\"Two young guys with shaggy hair look at thei...   \n",
       "1      [\"Several men in hard hats are operating a gia...   \n",
       "2      [\"A child in a pink dress is climbing up a set...   \n",
       "3      [\"Someone in a blue shirt and hat is standing ...   \n",
       "4      [\"Two men, one in a gray shirt, one in a black...   \n",
       "...                                                  ...   \n",
       "31009  [\"Woman writing on a pad in room with gold, de...   \n",
       "31010  [\"A person in a red shirt climbing up a rock f...   \n",
       "31011  [\"Two male construction workers are working on...   \n",
       "31012  [\"An older busker in glasses plays an Eastern ...   \n",
       "31013  [\"A man in shorts and a Hawaiian shirt leans o...   \n",
       "\n",
       "                                        sentids  split        filename  img_id  \n",
       "0                               [0, 1, 2, 3, 4]  train  1000092795.jpg       0  \n",
       "1                               [5, 6, 7, 8, 9]  train    10002456.jpg       1  \n",
       "2                          [10, 11, 12, 13, 14]  train  1000268201.jpg       2  \n",
       "3                          [15, 16, 17, 18, 19]  train  1000344755.jpg       3  \n",
       "4                          [20, 21, 22, 23, 24]  train  1000366164.jpg       4  \n",
       "...                                         ...    ...             ...     ...  \n",
       "31009  [155045, 155046, 155047, 155048, 155049]  train   997338199.jpg   31009  \n",
       "31010  [155050, 155051, 155052, 155053, 155054]  train   997722733.jpg   31010  \n",
       "31011  [155055, 155056, 155057, 155058, 155059]  train   997876722.jpg   31011  \n",
       "31012  [155060, 155061, 155062, 155063, 155064]  train    99804383.jpg   31012  \n",
       "31013  [155065, 155066, 155067, 155068, 155069]  train   998845445.jpg   31013  \n",
       "\n",
       "[31014 rows x 5 columns]"
      ],
      "text/html": [
       "<div>\n",
       "<style scoped>\n",
       "    .dataframe tbody tr th:only-of-type {\n",
       "        vertical-align: middle;\n",
       "    }\n",
       "\n",
       "    .dataframe tbody tr th {\n",
       "        vertical-align: top;\n",
       "    }\n",
       "\n",
       "    .dataframe thead th {\n",
       "        text-align: right;\n",
       "    }\n",
       "</style>\n",
       "<table border=\"1\" class=\"dataframe\">\n",
       "  <thead>\n",
       "    <tr style=\"text-align: right;\">\n",
       "      <th></th>\n",
       "      <th>raw</th>\n",
       "      <th>sentids</th>\n",
       "      <th>split</th>\n",
       "      <th>filename</th>\n",
       "      <th>img_id</th>\n",
       "    </tr>\n",
       "  </thead>\n",
       "  <tbody>\n",
       "    <tr>\n",
       "      <th>0</th>\n",
       "      <td>[\"Two young guys with shaggy hair look at thei...</td>\n",
       "      <td>[0, 1, 2, 3, 4]</td>\n",
       "      <td>train</td>\n",
       "      <td>1000092795.jpg</td>\n",
       "      <td>0</td>\n",
       "    </tr>\n",
       "    <tr>\n",
       "      <th>1</th>\n",
       "      <td>[\"Several men in hard hats are operating a gia...</td>\n",
       "      <td>[5, 6, 7, 8, 9]</td>\n",
       "      <td>train</td>\n",
       "      <td>10002456.jpg</td>\n",
       "      <td>1</td>\n",
       "    </tr>\n",
       "    <tr>\n",
       "      <th>2</th>\n",
       "      <td>[\"A child in a pink dress is climbing up a set...</td>\n",
       "      <td>[10, 11, 12, 13, 14]</td>\n",
       "      <td>train</td>\n",
       "      <td>1000268201.jpg</td>\n",
       "      <td>2</td>\n",
       "    </tr>\n",
       "    <tr>\n",
       "      <th>3</th>\n",
       "      <td>[\"Someone in a blue shirt and hat is standing ...</td>\n",
       "      <td>[15, 16, 17, 18, 19]</td>\n",
       "      <td>train</td>\n",
       "      <td>1000344755.jpg</td>\n",
       "      <td>3</td>\n",
       "    </tr>\n",
       "    <tr>\n",
       "      <th>4</th>\n",
       "      <td>[\"Two men, one in a gray shirt, one in a black...</td>\n",
       "      <td>[20, 21, 22, 23, 24]</td>\n",
       "      <td>train</td>\n",
       "      <td>1000366164.jpg</td>\n",
       "      <td>4</td>\n",
       "    </tr>\n",
       "    <tr>\n",
       "      <th>...</th>\n",
       "      <td>...</td>\n",
       "      <td>...</td>\n",
       "      <td>...</td>\n",
       "      <td>...</td>\n",
       "      <td>...</td>\n",
       "    </tr>\n",
       "    <tr>\n",
       "      <th>31009</th>\n",
       "      <td>[\"Woman writing on a pad in room with gold, de...</td>\n",
       "      <td>[155045, 155046, 155047, 155048, 155049]</td>\n",
       "      <td>train</td>\n",
       "      <td>997338199.jpg</td>\n",
       "      <td>31009</td>\n",
       "    </tr>\n",
       "    <tr>\n",
       "      <th>31010</th>\n",
       "      <td>[\"A person in a red shirt climbing up a rock f...</td>\n",
       "      <td>[155050, 155051, 155052, 155053, 155054]</td>\n",
       "      <td>train</td>\n",
       "      <td>997722733.jpg</td>\n",
       "      <td>31010</td>\n",
       "    </tr>\n",
       "    <tr>\n",
       "      <th>31011</th>\n",
       "      <td>[\"Two male construction workers are working on...</td>\n",
       "      <td>[155055, 155056, 155057, 155058, 155059]</td>\n",
       "      <td>train</td>\n",
       "      <td>997876722.jpg</td>\n",
       "      <td>31011</td>\n",
       "    </tr>\n",
       "    <tr>\n",
       "      <th>31012</th>\n",
       "      <td>[\"An older busker in glasses plays an Eastern ...</td>\n",
       "      <td>[155060, 155061, 155062, 155063, 155064]</td>\n",
       "      <td>train</td>\n",
       "      <td>99804383.jpg</td>\n",
       "      <td>31012</td>\n",
       "    </tr>\n",
       "    <tr>\n",
       "      <th>31013</th>\n",
       "      <td>[\"A man in shorts and a Hawaiian shirt leans o...</td>\n",
       "      <td>[155065, 155066, 155067, 155068, 155069]</td>\n",
       "      <td>train</td>\n",
       "      <td>998845445.jpg</td>\n",
       "      <td>31013</td>\n",
       "    </tr>\n",
       "  </tbody>\n",
       "</table>\n",
       "<p>31014 rows × 5 columns</p>\n",
       "</div>"
      ]
     },
     "execution_count": 2,
     "metadata": {},
     "output_type": "execute_result"
    }
   ],
   "execution_count": 2
  },
  {
   "metadata": {
    "ExecuteTime": {
     "end_time": "2025-05-15T02:42:03.106667Z",
     "start_time": "2025-05-15T02:42:03.086527Z"
    }
   },
   "cell_type": "code",
   "source": "df.info()",
   "id": "92b69ef4da20fddf",
   "outputs": [
    {
     "name": "stdout",
     "output_type": "stream",
     "text": [
      "<class 'pandas.core.frame.DataFrame'>\n",
      "RangeIndex: 31014 entries, 0 to 31013\n",
      "Data columns (total 5 columns):\n",
      " #   Column    Non-Null Count  Dtype \n",
      "---  ------    --------------  ----- \n",
      " 0   raw       31014 non-null  object\n",
      " 1   sentids   31014 non-null  object\n",
      " 2   split     31014 non-null  object\n",
      " 3   filename  31014 non-null  object\n",
      " 4   img_id    31014 non-null  int64 \n",
      "dtypes: int64(1), object(4)\n",
      "memory usage: 1.2+ MB\n"
     ]
    }
   ],
   "execution_count": 3
  },
  {
   "metadata": {
    "ExecuteTime": {
     "end_time": "2025-05-15T02:42:05.383835Z",
     "start_time": "2025-05-15T02:42:05.062378Z"
    }
   },
   "cell_type": "code",
   "source": [
    "import numpy as np\n",
    "\n",
    "train_df = pd.read_csv(\"train.csv\")\n",
    "captions = train_df[\"caption\"].tolist()\n",
    "caption_lengths = [len(caption.split()) for caption in captions]\n",
    "print(\"Max length:\", max(caption_lengths))\n",
    "print(\"95th percentile:\", np.percentile(caption_lengths, 95))"
   ],
   "id": "c3e0d6395139fc63",
   "outputs": [
    {
     "name": "stdout",
     "output_type": "stream",
     "text": [
      "Max length: 78\n",
      "95th percentile: 22.0\n"
     ]
    }
   ],
   "execution_count": 4
  },
  {
   "metadata": {
    "ExecuteTime": {
     "end_time": "2025-05-15T02:43:07.381463Z",
     "start_time": "2025-05-15T02:43:07.365990Z"
    }
   },
   "cell_type": "code",
   "source": "train_df.info()",
   "id": "723912c713bbfcb1",
   "outputs": [
    {
     "name": "stdout",
     "output_type": "stream",
     "text": [
      "<class 'pandas.core.frame.DataFrame'>\n",
      "RangeIndex: 145000 entries, 0 to 144999\n",
      "Data columns (total 2 columns):\n",
      " #   Column      Non-Null Count   Dtype \n",
      "---  ------      --------------   ----- \n",
      " 0   image_path  145000 non-null  object\n",
      " 1   caption     145000 non-null  object\n",
      "dtypes: object(2)\n",
      "memory usage: 2.2+ MB\n"
     ]
    }
   ],
   "execution_count": 8
  },
  {
   "metadata": {
    "ExecuteTime": {
     "end_time": "2025-05-15T02:44:44.965790Z",
     "start_time": "2025-05-15T02:44:44.911472Z"
    }
   },
   "cell_type": "code",
   "source": "test_df = pd.read_csv(\"test.csv\")",
   "id": "d38e44ad3ce60288",
   "outputs": [],
   "execution_count": 9
  },
  {
   "metadata": {
    "ExecuteTime": {
     "end_time": "2025-05-15T02:44:51.424741Z",
     "start_time": "2025-05-15T02:44:51.416232Z"
    }
   },
   "cell_type": "code",
   "source": "test_df.info()",
   "id": "33f4228fd6bf03bc",
   "outputs": [
    {
     "name": "stdout",
     "output_type": "stream",
     "text": [
      "<class 'pandas.core.frame.DataFrame'>\n",
      "RangeIndex: 5000 entries, 0 to 4999\n",
      "Data columns (total 2 columns):\n",
      " #   Column      Non-Null Count  Dtype \n",
      "---  ------      --------------  ----- \n",
      " 0   image_path  5000 non-null   object\n",
      " 1   caption     5000 non-null   object\n",
      "dtypes: object(2)\n",
      "memory usage: 78.3+ KB\n"
     ]
    }
   ],
   "execution_count": 11
  },
  {
   "metadata": {
    "ExecuteTime": {
     "end_time": "2025-05-15T02:45:02.917584Z",
     "start_time": "2025-05-15T02:45:02.904090Z"
    }
   },
   "cell_type": "code",
   "source": "val_df = pd.read_csv(\"val.csv\")",
   "id": "7a1038824913b572",
   "outputs": [],
   "execution_count": 12
  },
  {
   "metadata": {
    "ExecuteTime": {
     "end_time": "2025-05-15T02:45:06.141636Z",
     "start_time": "2025-05-15T02:45:06.132124Z"
    }
   },
   "cell_type": "code",
   "source": "val_df.info()",
   "id": "1cb20255a78a15b6",
   "outputs": [
    {
     "name": "stdout",
     "output_type": "stream",
     "text": [
      "<class 'pandas.core.frame.DataFrame'>\n",
      "RangeIndex: 5070 entries, 0 to 5069\n",
      "Data columns (total 2 columns):\n",
      " #   Column      Non-Null Count  Dtype \n",
      "---  ------      --------------  ----- \n",
      " 0   image_path  5070 non-null   object\n",
      " 1   caption     5070 non-null   object\n",
      "dtypes: object(2)\n",
      "memory usage: 79.3+ KB\n"
     ]
    }
   ],
   "execution_count": 13
  },
  {
   "metadata": {},
   "cell_type": "code",
   "outputs": [],
   "execution_count": null,
   "source": "",
   "id": "917000b3e6f5e70c"
  }
 ],
 "metadata": {
  "kernelspec": {
   "display_name": "Python [conda env:base] *",
   "language": "python",
   "name": "conda-base-py"
  },
  "language_info": {
   "codemirror_mode": {
    "name": "ipython",
    "version": 2
   },
   "file_extension": ".py",
   "mimetype": "text/x-python",
   "name": "python",
   "nbconvert_exporter": "python",
   "pygments_lexer": "ipython2",
   "version": "2.7.6"
  }
 },
 "nbformat": 4,
 "nbformat_minor": 5
}
