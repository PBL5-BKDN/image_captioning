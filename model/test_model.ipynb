{
 "cells": [
  {
   "cell_type": "code",
   "execution_count": null,
   "id": "initial_id",
   "metadata": {
    "collapsed": true
   },
   "outputs": [],
   "source": [
    ""
   ]
  },
  {
   "metadata": {
    "ExecuteTime": {
     "end_time": "2025-03-05T22:34:15.483633Z",
     "start_time": "2025-03-05T22:34:09.905431Z"
    }
   },
   "cell_type": "code",
   "source": [
    "import torch\n",
    "from model import ImageCaptioningModel\n",
    "\n",
    "# Kiểm tra có hỗ trợ MPS (GPU trên Macbook M1/M2) không\n",
    "device = torch.device(\"mps\") if torch.backends.mps.is_available() else torch.device(\"cpu\")\n",
    "\n",
    "# Tạo mô hình và chuyển lên MPS nếu có\n",
    "model = ImageCaptioningModel().to(device)\n",
    "\n",
    "\n",
    "# Tạo dữ liệu giả lập\n",
    "image_features = torch.randn(8, 2048).to(device)  # Batch size = 8, feature size = 2048\n",
    "captions = [\"chiếc thuyền đang di chuyển\", \"con mèo nằm trên bàn\", \"một người đang đi bộ\"] * 3\n",
    "\n",
    "# Dự đoán\n",
    "with torch.no_grad():  # Không tính toán gradient\n",
    "    output = model(image_features, captions)\n",
    "\n",
    "print(output.shape)  # Kết quả mong đợi: (8, 1953)\n"
   ],
   "id": "4a4eeb97632a0166",
   "outputs": [
    {
     "name": "stdout",
     "output_type": "stream",
     "text": [
      "torch.Size([8, 1953])\n"
     ]
    }
   ],
   "execution_count": 4
  },
  {
   "metadata": {},
   "cell_type": "code",
   "outputs": [],
   "execution_count": null,
   "source": "",
   "id": "d493b7023d6d9f58"
  }
 ],
 "metadata": {
  "kernelspec": {
   "display_name": "Python 3",
   "language": "python",
   "name": "python3"
  },
  "language_info": {
   "codemirror_mode": {
    "name": "ipython",
    "version": 2
   },
   "file_extension": ".py",
   "mimetype": "text/x-python",
   "name": "python",
   "nbconvert_exporter": "python",
   "pygments_lexer": "ipython2",
   "version": "2.7.6"
  }
 },
 "nbformat": 4,
 "nbformat_minor": 5
}
