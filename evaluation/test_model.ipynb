{
 "cells": [
  {
   "cell_type": "code",
   "id": "initial_id",
   "metadata": {
    "collapsed": true,
    "ExecuteTime": {
     "end_time": "2025-04-07T06:07:36.604238Z",
     "start_time": "2025-04-07T06:07:25.601560Z"
    }
   },
   "source": [
    "import torch\n",
    "\n",
    "from data.ImageCaptionDataset import ImageCaptionDataset\n",
    "from model.ImageCaptioningModel import ImageCaptioningModel\n",
    "from data.vocab import Vocab\n",
    "\n",
    "import os\n",
    "\n",
    "device = torch.device(\"cuda\" if torch.cuda.is_available() else \"cpu\")\n",
    "\n",
    "# Load vocab\n",
    "vocab = Vocab(\"../data/train_data_preprocessed.pkl\")\n",
    "\n",
    "# Load model\n",
    "model = ImageCaptioningModel(vocab_size=vocab.vocab_size, image_feature_size=2048, hidden_size=256, vocab=vocab)\n",
    "model.load_state_dict(torch.load(\"../best_model.pth\", map_location=device))\n",
    "model.to(device)\n",
    "model.eval()\n",
    "from torchvision import transforms\n",
    "from PIL import Image\n",
    "\n",
    "transform = transforms.Compose([\n",
    "    transforms.Resize((299, 299)),\n",
    "    transforms.ToTensor(),\n",
    "    transforms.Normalize(mean=[0.485, 0.456, 0.406], std=[0.229, 0.224, 0.225])\n",
    "])\n"
   ],
   "outputs": [
    {
     "ename": "KeyboardInterrupt",
     "evalue": "",
     "output_type": "error",
     "traceback": [
      "\u001B[31m---------------------------------------------------------------------------\u001B[39m",
      "\u001B[31mKeyboardInterrupt\u001B[39m                         Traceback (most recent call last)",
      "\u001B[36mCell\u001B[39m\u001B[36m \u001B[39m\u001B[32mIn[1]\u001B[39m\u001B[32m, line 15\u001B[39m\n\u001B[32m     12\u001B[39m vocab = Vocab(\u001B[33m\"\u001B[39m\u001B[33m../data/train_data_preprocessed.pkl\u001B[39m\u001B[33m\"\u001B[39m)\n\u001B[32m     14\u001B[39m \u001B[38;5;66;03m# Load model\u001B[39;00m\n\u001B[32m---> \u001B[39m\u001B[32m15\u001B[39m model = \u001B[43mImageCaptioningModel\u001B[49m\u001B[43m(\u001B[49m\u001B[43mvocab_size\u001B[49m\u001B[43m=\u001B[49m\u001B[43mvocab\u001B[49m\u001B[43m.\u001B[49m\u001B[43mvocab_size\u001B[49m\u001B[43m,\u001B[49m\u001B[43m \u001B[49m\u001B[43mimage_feature_size\u001B[49m\u001B[43m=\u001B[49m\u001B[32;43m2048\u001B[39;49m\u001B[43m,\u001B[49m\u001B[43m \u001B[49m\u001B[43mhidden_size\u001B[49m\u001B[43m=\u001B[49m\u001B[32;43m256\u001B[39;49m\u001B[43m,\u001B[49m\u001B[43m \u001B[49m\u001B[43mvocab\u001B[49m\u001B[43m=\u001B[49m\u001B[43mvocab\u001B[49m\u001B[43m)\u001B[49m\n\u001B[32m     16\u001B[39m model.load_state_dict(torch.load(\u001B[33m\"\u001B[39m\u001B[33m../best_model.pth\u001B[39m\u001B[33m\"\u001B[39m, map_location=device))\n\u001B[32m     17\u001B[39m model.to(device)\n",
      "\u001B[36mFile \u001B[39m\u001B[32m~\\Desktop\\python_prj\\model\\ImageCaptioningModel.py:46\u001B[39m, in \u001B[36mImageCaptioningModel.__init__\u001B[39m\u001B[34m(self, vocab_size, image_feature_size, hidden_size, num_layers, vocab)\u001B[39m\n\u001B[32m     44\u001B[39m \u001B[38;5;66;03m# Embedding cho special tokens\u001B[39;00m\n\u001B[32m     45\u001B[39m \u001B[38;5;28mself\u001B[39m.special_token_embedding = nn.Embedding(\u001B[38;5;28mlen\u001B[39m(vocab.special_tokens), \u001B[32m300\u001B[39m)\n\u001B[32m---> \u001B[39m\u001B[32m46\u001B[39m \u001B[38;5;28mself\u001B[39m.ft = \u001B[43mfasttext\u001B[49m\u001B[43m.\u001B[49m\u001B[43mload_model\u001B[49m\u001B[43m(\u001B[49m\u001B[33;43m\"\u001B[39;49m\u001B[33;43mcc.vi.300.bin\u001B[39;49m\u001B[33;43m\"\u001B[39;49m\u001B[43m)\u001B[49m\n\u001B[32m     47\u001B[39m \u001B[38;5;28mself\u001B[39m.caption_projection = nn.Linear(\u001B[32m300\u001B[39m, hidden_size)\n\u001B[32m     49\u001B[39m \u001B[38;5;28mself\u001B[39m.attention = Attention(hidden_size)\n",
      "\u001B[36mFile \u001B[39m\u001B[32m~\\Desktop\\python_prj\\.venv\\Lib\\site-packages\\fasttext\\FastText.py:436\u001B[39m, in \u001B[36mload_model\u001B[39m\u001B[34m(path)\u001B[39m\n\u001B[32m    434\u001B[39m \u001B[38;5;28;01mdef\u001B[39;00m\u001B[38;5;250m \u001B[39m\u001B[34mload_model\u001B[39m(path):\n\u001B[32m    435\u001B[39m \u001B[38;5;250m    \u001B[39m\u001B[33;03m\"\"\"Load a model given a filepath and return a model object.\"\"\"\u001B[39;00m\n\u001B[32m--> \u001B[39m\u001B[32m436\u001B[39m     \u001B[38;5;28;01mreturn\u001B[39;00m \u001B[43m_FastText\u001B[49m\u001B[43m(\u001B[49m\u001B[43mmodel_path\u001B[49m\u001B[43m=\u001B[49m\u001B[43mpath\u001B[49m\u001B[43m)\u001B[49m\n",
      "\u001B[36mFile \u001B[39m\u001B[32m~\\Desktop\\python_prj\\.venv\\Lib\\site-packages\\fasttext\\FastText.py:97\u001B[39m, in \u001B[36m_FastText.__init__\u001B[39m\u001B[34m(self, model_path, args)\u001B[39m\n\u001B[32m     95\u001B[39m \u001B[38;5;28mself\u001B[39m._words = \u001B[38;5;28;01mNone\u001B[39;00m\n\u001B[32m     96\u001B[39m \u001B[38;5;28mself\u001B[39m._labels = \u001B[38;5;28;01mNone\u001B[39;00m\n\u001B[32m---> \u001B[39m\u001B[32m97\u001B[39m \u001B[38;5;28;43mself\u001B[39;49m\u001B[43m.\u001B[49m\u001B[43mset_args\u001B[49m\u001B[43m(\u001B[49m\u001B[43margs\u001B[49m\u001B[43m)\u001B[49m\n",
      "\u001B[36mFile \u001B[39m\u001B[32m~\\Desktop\\python_prj\\.venv\\Lib\\site-packages\\fasttext\\FastText.py:99\u001B[39m, in \u001B[36m_FastText.set_args\u001B[39m\u001B[34m(self, args)\u001B[39m\n\u001B[32m     96\u001B[39m     \u001B[38;5;28mself\u001B[39m._labels = \u001B[38;5;28;01mNone\u001B[39;00m\n\u001B[32m     97\u001B[39m     \u001B[38;5;28mself\u001B[39m.set_args(args)\n\u001B[32m---> \u001B[39m\u001B[32m99\u001B[39m \u001B[38;5;28;01mdef\u001B[39;00m\u001B[38;5;250m \u001B[39m\u001B[34mset_args\u001B[39m(\u001B[38;5;28mself\u001B[39m, args=\u001B[38;5;28;01mNone\u001B[39;00m):\n\u001B[32m    100\u001B[39m     \u001B[38;5;28;01mif\u001B[39;00m args:\n\u001B[32m    101\u001B[39m         arg_names = [\u001B[33m'\u001B[39m\u001B[33mlr\u001B[39m\u001B[33m'\u001B[39m, \u001B[33m'\u001B[39m\u001B[33mdim\u001B[39m\u001B[33m'\u001B[39m, \u001B[33m'\u001B[39m\u001B[33mws\u001B[39m\u001B[33m'\u001B[39m, \u001B[33m'\u001B[39m\u001B[33mepoch\u001B[39m\u001B[33m'\u001B[39m, \u001B[33m'\u001B[39m\u001B[33mminCount\u001B[39m\u001B[33m'\u001B[39m,\n\u001B[32m    102\u001B[39m                      \u001B[33m'\u001B[39m\u001B[33mminCountLabel\u001B[39m\u001B[33m'\u001B[39m, \u001B[33m'\u001B[39m\u001B[33mminn\u001B[39m\u001B[33m'\u001B[39m, \u001B[33m'\u001B[39m\u001B[33mmaxn\u001B[39m\u001B[33m'\u001B[39m, \u001B[33m'\u001B[39m\u001B[33mneg\u001B[39m\u001B[33m'\u001B[39m, \u001B[33m'\u001B[39m\u001B[33mwordNgrams\u001B[39m\u001B[33m'\u001B[39m,\n\u001B[32m    103\u001B[39m                      \u001B[33m'\u001B[39m\u001B[33mloss\u001B[39m\u001B[33m'\u001B[39m, \u001B[33m'\u001B[39m\u001B[33mbucket\u001B[39m\u001B[33m'\u001B[39m, \u001B[33m'\u001B[39m\u001B[33mthread\u001B[39m\u001B[33m'\u001B[39m, \u001B[33m'\u001B[39m\u001B[33mlrUpdateRate\u001B[39m\u001B[33m'\u001B[39m, \u001B[33m'\u001B[39m\u001B[33mt\u001B[39m\u001B[33m'\u001B[39m,\n\u001B[32m    104\u001B[39m                      \u001B[33m'\u001B[39m\u001B[33mlabel\u001B[39m\u001B[33m'\u001B[39m, \u001B[33m'\u001B[39m\u001B[33mverbose\u001B[39m\u001B[33m'\u001B[39m, \u001B[33m'\u001B[39m\u001B[33mpretrainedVectors\u001B[39m\u001B[33m'\u001B[39m]\n",
      "\u001B[31mKeyboardInterrupt\u001B[39m: "
     ]
    }
   ],
   "execution_count": 1
  },
  {
   "metadata": {
    "ExecuteTime": {
     "end_time": "2025-04-07T06:08:04.807324Z",
     "start_time": "2025-04-07T06:08:04.801122Z"
    }
   },
   "cell_type": "code",
   "source": [
    "import pickle as pkl\n",
    "data = None\n",
    "with open(\"../data/test_data_preprocessed.pkl\", \"rb\") as f:\n",
    "    data = pkl.load(f)\n",
    "    print(data[:5])"
   ],
   "id": "c9bf0cdb2731ec49",
   "outputs": [
    {
     "name": "stdout",
     "output_type": "stream",
     "text": [
      "[{'id': 0, 'image_id': 1, 'caption': 'đây là khung cảnh xuất hiện ở phía trước một căn nhà', 'segment_caption': 'đây là khung_cảnh xuất_hiện ở phía trước một căn nhà', 'image_path': 'C:\\\\Users\\\\NguyenPC\\\\Desktop\\\\python_prj\\\\data/ktvic_dataset/public-test-images\\\\00000000001.jpg'}, {'id': 1, 'image_id': 1, 'caption': 'có một căn nhà cao tầng xuất hiện ở trong bức ảnh', 'segment_caption': 'có một căn nhà cao_tầng xuất_hiện ở trong bức ảnh', 'image_path': 'C:\\\\Users\\\\NguyenPC\\\\Desktop\\\\python_prj\\\\data/ktvic_dataset/public-test-images\\\\00000000001.jpg'}, {'id': 2, 'image_id': 1, 'caption': 'ở trong bức ảnh có sự xuất hiện của một căn nhà cao tầng', 'segment_caption': 'ở trong bức ảnh có sự xuất_hiện của một căn nhà cao_tầng', 'image_path': 'C:\\\\Users\\\\NguyenPC\\\\Desktop\\\\python_prj\\\\data/ktvic_dataset/public-test-images\\\\00000000001.jpg'}, {'id': 3, 'image_id': 1, 'caption': 'có một chiếc xe máy xuất hiện ở trong căn nhà', 'segment_caption': 'có một chiếc xe_máy xuất_hiện ở trong căn nhà', 'image_path': 'C:\\\\Users\\\\NguyenPC\\\\Desktop\\\\python_prj\\\\data/ktvic_dataset/public-test-images\\\\00000000001.jpg'}, {'id': 4, 'image_id': 1, 'caption': 'đây là bức ảnh chụp ở phía trước của một căn nhà cao tầng', 'segment_caption': 'đây là bức ảnh chụp ở phía trước của một căn nhà cao_tầng', 'image_path': 'C:\\\\Users\\\\NguyenPC\\\\Desktop\\\\python_prj\\\\data/ktvic_dataset/public-test-images\\\\00000000001.jpg'}]\n"
     ]
    }
   ],
   "execution_count": 5
  },
  {
   "metadata": {
    "ExecuteTime": {
     "end_time": "2025-04-04T09:08:53.764776Z",
     "start_time": "2025-04-04T09:08:52.278084Z"
    }
   },
   "cell_type": "code",
   "source": [
    "import torch\n",
    "from PIL import Image\n",
    "import torch.nn.functional as F\n",
    "def preprocess_image(image_path):\n",
    "    image = Image.open(image_path).convert(\"RGB\")\n",
    "    image.show()\n",
    "    return transform(image).unsqueeze(0).to(device)\n",
    "\n",
    "def generate_caption(image_path, max_length=29):\n",
    "    image = preprocess_image(image_path)\n",
    "    top_k = 5\n",
    "    # Khởi tạo với token \"<START>\"\n",
    "    caption = []\n",
    "    input_seq = torch.tensor([[vocab.w2i[\"<START>\"]]], dtype=torch.long).to(device)\n",
    "\n",
    "    with torch.no_grad():\n",
    "        for _ in range(max_length):\n",
    "\n",
    "            output = model(image, input_seq)  # Dự đoán từ tiếp theo\n",
    "            logits = output[:, -1, :]\n",
    "            probs = F.softmax(logits, dim=-1)\n",
    "            top_k_probs, top_k_words = torch.topk(probs, top_k, dim=-1)\n",
    "            sampled_id = torch.multinomial(top_k_probs, 1).item()  # Lấy 1 từ ngẫu nhiên trong top-k\n",
    "            predicted_word = vocab.i2w[top_k_words[0][sampled_id].item()]\n",
    "\n",
    "            if predicted_word == \"<END>\":  # Dừng khi gặp token \"<END>\"\n",
    "                break\n",
    "\n",
    "            caption.append(predicted_word)\n",
    "            input_seq = torch.cat([input_seq, torch.tensor([[top_k_words[0][sampled_id].item()]], dtype=torch.long).to(device)], dim=1)\n",
    "\n",
    "    return \" \".join(caption)  # Bỏ token \"<START>\"\n",
    "\n",
    "# Test với một ảnh\n",
    "image_path = \"img_1.png\"\n",
    "captions = [item[\"segment_caption\"] for item in data if image_path in item['image_path']]\n",
    "print(\"label:\", captions)\n",
    "\n",
    "print(\"predicted:\", generate_caption(image_path, max_length=29))\n"
   ],
   "id": "4a4eeb97632a0166",
   "outputs": [
    {
     "name": "stdout",
     "output_type": "stream",
     "text": [
      "label: []\n",
      "predicted: <START> xung_quanh xung_quanh xung_quanh đối_diện đối_diện đối_diện đối_diện đối_diện đối_diện đối_diện thấy thấy thấy thấy thấy thấy thấy thấy thấy thấy thấy thấy đối_diện trước trước thấy đối_diện đối_diện\n"
     ]
    }
   ],
   "execution_count": 5
  },
  {
   "metadata": {},
   "cell_type": "code",
   "outputs": [],
   "execution_count": null,
   "source": "",
   "id": "d493b7023d6d9f58"
  }
 ],
 "metadata": {
  "kernelspec": {
   "display_name": "Python 3",
   "language": "python",
   "name": "python3"
  },
  "language_info": {
   "codemirror_mode": {
    "name": "ipython",
    "version": 2
   },
   "file_extension": ".py",
   "mimetype": "text/x-python",
   "name": "python",
   "nbconvert_exporter": "python",
   "pygments_lexer": "ipython2",
   "version": "2.7.6"
  }
 },
 "nbformat": 4,
 "nbformat_minor": 5
}
