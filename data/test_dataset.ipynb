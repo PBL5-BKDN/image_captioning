{
 "cells": [
  {
   "cell_type": "code",
   "id": "initial_id",
   "metadata": {
    "collapsed": true,
    "ExecuteTime": {
     "end_time": "2025-03-05T23:26:10.014318Z",
     "start_time": "2025-03-05T23:26:09.951031Z"
    }
   },
   "source": [
    "from data.dataset import ImageCaptionDataset\n",
    "\n",
    "\n",
    "from data.CustomDataset import transform\n",
    "\n",
    "from pyvi.ViTokenizer import tokenize\n",
    "from sentence_transformers import SentenceTransformer\n",
    "\n",
    "test_json_path = \"/Users/nguyenhuynh/Documents/3.5-year-DUT/pbl5/image_captioning/data/ktvic_dataset/train_data.json\"\n",
    "img_test_dir = \"/Users/nguyenhuynh/Documents/3.5-year-DUT/pbl5/image_captioning/data/ktvic_dataset/train-images\"\n",
    "# test\n",
    "dataset = ImageCaptionDataset(test_json_path,img_test_dir, tokenize, transform=transform)\n",
    "print(dataset[0])\n",
    "image, caption = dataset[0]\n",
    "print(type(image))   \n",
    "print(type(caption)) \n"
   ],
   "outputs": [
    {
     "name": "stdout",
     "output_type": "stream",
     "text": [
      "(tensor([[[0.1426, 0.1768, 0.2111,  ..., 1.2557, 1.2385, 1.2385],\n",
      "         [0.0741, 0.0912, 0.1254,  ..., 1.1358, 1.1358, 1.1700],\n",
      "         [0.1597, 0.1597, 0.1768,  ..., 1.0673, 1.0673, 1.1015],\n",
      "         ...,\n",
      "         [0.8961, 0.8789, 0.8961,  ..., 1.0673, 1.0673, 1.1015],\n",
      "         [0.9474, 0.9474, 0.9132,  ..., 1.0502, 1.0844, 1.1187],\n",
      "         [0.9474, 0.9988, 1.0159,  ..., 1.0673, 1.1358, 1.1700]],\n",
      "\n",
      "        [[1.2381, 1.2556, 1.2731,  ..., 2.0084, 1.9909, 1.9909],\n",
      "         [1.1681, 1.1681, 1.1856,  ..., 1.9384, 1.9209, 1.9559],\n",
      "         [1.2381, 1.2206, 1.2381,  ..., 1.8859, 1.8859, 1.9384],\n",
      "         ...,\n",
      "         [0.9055, 0.8880, 0.9230,  ..., 1.2031, 1.2031, 1.2381],\n",
      "         [0.9580, 0.9580, 0.9405,  ..., 1.1856, 1.2206, 1.2556],\n",
      "         [0.9580, 1.0105, 1.0630,  ..., 1.2031, 1.2731, 1.3081]],\n",
      "\n",
      "        [[2.1520, 2.1520, 2.1520,  ..., 2.3786, 2.3611, 2.3611],\n",
      "         [2.0648, 2.0474, 2.0648,  ..., 2.3088, 2.2914, 2.3263],\n",
      "         [2.1171, 2.0823, 2.0823,  ..., 2.2566, 2.2566, 2.3088],\n",
      "         ...,\n",
      "         [0.3045, 0.2871, 0.3045,  ..., 1.0539, 1.0714, 1.1062],\n",
      "         [0.3568, 0.3568, 0.3393,  ..., 1.0539, 1.0888, 1.1237],\n",
      "         [0.3568, 0.4091, 0.4439,  ..., 1.0539, 1.1411, 1.1759]]]), 'ba chiếc thuyền đang di_chuyển ở trên con sông')\n",
      "<class 'torch.Tensor'>\n",
      "<class 'str'>\n"
     ]
    }
   ],
   "execution_count": 14
  },
  {
   "metadata": {
    "ExecuteTime": {
     "end_time": "2025-03-05T22:19:44.346335Z",
     "start_time": "2025-03-05T22:19:44.276754Z"
    }
   },
   "cell_type": "code",
   "source": [
    "print(dataset[0][0].shape)\n",
    "\n"
   ],
   "id": "2a6e0edba956b01",
   "outputs": [
    {
     "name": "stdout",
     "output_type": "stream",
     "text": [
      "torch.Size([3, 299, 299])\n"
     ]
    }
   ],
   "execution_count": 2
  },
  {
   "metadata": {
    "ExecuteTime": {
     "end_time": "2025-03-05T22:20:06.968463Z",
     "start_time": "2025-03-05T22:19:59.691289Z"
    }
   },
   "cell_type": "code",
   "source": [
    "model = SentenceTransformer('dangvantuan/vietnamese-embedding')\n",
    "embeddings = model.encode(dataset[0][1])\n",
    "print(embeddings.shape)"
   ],
   "id": "b41a802a744b4ec3",
   "outputs": [
    {
     "name": "stdout",
     "output_type": "stream",
     "text": [
      "(768,)\n"
     ]
    }
   ],
   "execution_count": 3
  },
  {
   "metadata": {
    "ExecuteTime": {
     "end_time": "2025-03-05T22:24:17.850089Z",
     "start_time": "2025-03-05T22:24:17.357634Z"
    }
   },
   "cell_type": "code",
   "source": "print(model.encode(dataset[1][1]).shape)",
   "id": "678448212d411558",
   "outputs": [
    {
     "name": "stdout",
     "output_type": "stream",
     "text": [
      "(768,)\n"
     ]
    }
   ],
   "execution_count": 4
  }
 ],
 "metadata": {
  "kernelspec": {
   "display_name": "Python 3",
   "language": "python",
   "name": "python3"
  },
  "language_info": {
   "codemirror_mode": {
    "name": "ipython",
    "version": 2
   },
   "file_extension": ".py",
   "mimetype": "text/x-python",
   "name": "python",
   "nbconvert_exporter": "python",
   "pygments_lexer": "ipython2",
   "version": "2.7.6"
  }
 },
 "nbformat": 4,
 "nbformat_minor": 5
}
