{
 "cells": [
  {
   "cell_type": "code",
   "id": "initial_id",
   "metadata": {
    "collapsed": true,
    "ExecuteTime": {
     "end_time": "2025-03-31T04:37:54.059139Z",
     "start_time": "2025-03-31T04:37:54.035964Z"
    }
   },
   "source": [
    "import pickle\n",
    "path = \"data/train_data_preprocessed.pkl\"\n",
    "with open(path, \"rb\") as f:\n",
    "    data = pickle.load(f)\n",
    "    print(data[0])"
   ],
   "outputs": [
    {
     "name": "stdout",
     "output_type": "stream",
     "text": [
      "{'id': 0, 'image_id': 2, 'caption': 'ba chiếc thuyền đang di chuyển ở trên con sông', 'segment_caption': '<START> ba chiếc thuyền đang di_chuyển ở trên con sông <END>', 'image_path': '/Users/nguyenhuynh/Documents/3.5-year-DUT/pbl5/image_captioning/data/ktvic_dataset/train-images/00000000002.jpg'}\n"
     ]
    }
   ],
   "execution_count": 1
  }
 ],
 "metadata": {
  "kernelspec": {
   "display_name": "Python 3",
   "language": "python",
   "name": "python3"
  },
  "language_info": {
   "codemirror_mode": {
    "name": "ipython",
    "version": 2
   },
   "file_extension": ".py",
   "mimetype": "text/x-python",
   "name": "python",
   "nbconvert_exporter": "python",
   "pygments_lexer": "ipython2",
   "version": "2.7.6"
  }
 },
 "nbformat": 4,
 "nbformat_minor": 5
}
