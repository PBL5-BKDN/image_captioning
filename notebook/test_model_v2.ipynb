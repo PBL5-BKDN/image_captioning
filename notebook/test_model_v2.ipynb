{
 "cells": [
  {
   "cell_type": "code",
   "id": "initial_id",
   "metadata": {
    "collapsed": true,
    "ExecuteTime": {
     "end_time": "2025-05-10T11:43:37.913475Z",
     "start_time": "2025-05-10T11:43:34.303370Z"
    }
   },
   "source": [
    "import os.path\n",
    "from model.ImageCaptioningModelV2 import ImageCaptionModelV2\n",
    "from settings import BASE_DIR\n",
    "from train.helper import load_checkpoint\n",
    "\n",
    "checkpoint_path = os.path.join(BASE_DIR, \"train\", \"model\", \"best_model_transformer_v2.pth\")\n",
    "model, optimizer, start_epoch = load_checkpoint(ImageCaptionModelV2, checkpoint_path)\n",
    "model.eval()\n"
   ],
   "outputs": [
    {
     "data": {
      "text/plain": [
       "ImageCaptionModelV2(\n",
       "  (patch_embedding): PatchEmbedding(\n",
       "    (proj): Conv2d(3, 300, kernel_size=(16, 16), stride=(16, 16))\n",
       "  )\n",
       "  (encoder): TransformerEncoder(\n",
       "    (layer_norm_1): LayerNorm((300,), eps=1e-05, elementwise_affine=True)\n",
       "    (fc): Sequential(\n",
       "      (0): Linear(in_features=300, out_features=300, bias=True)\n",
       "      (1): ReLU()\n",
       "    )\n",
       "    (attention): MultiheadAttention(\n",
       "      (out_proj): NonDynamicallyQuantizableLinear(in_features=300, out_features=300, bias=True)\n",
       "    )\n",
       "    (layer_norm_2): LayerNorm((300,), eps=1e-05, elementwise_affine=True)\n",
       "  )\n",
       "  (embedding): Embedding(\n",
       "    (token_embedding): Embedding(4034, 300, padding_idx=0)\n",
       "    (pos_embedding): Embedding(290, 300)\n",
       "  )\n",
       "  (decoder): TransformerDecoder(\n",
       "    (attention_1): MultiheadAttention(\n",
       "      (out_proj): NonDynamicallyQuantizableLinear(in_features=300, out_features=300, bias=True)\n",
       "    )\n",
       "    (layer_norm_1): LayerNorm((300,), eps=1e-05, elementwise_affine=True)\n",
       "    (attention_2): MultiheadAttention(\n",
       "      (out_proj): NonDynamicallyQuantizableLinear(in_features=300, out_features=300, bias=True)\n",
       "    )\n",
       "    (layer_norm_2): LayerNorm((300,), eps=1e-05, elementwise_affine=True)\n",
       "    (ffn_layer_1): Sequential(\n",
       "      (0): Linear(in_features=300, out_features=512, bias=True)\n",
       "      (1): ReLU()\n",
       "    )\n",
       "    (dropout_1): Dropout(p=0.3, inplace=False)\n",
       "    (ffn_layer_2): Sequential(\n",
       "      (0): Linear(in_features=512, out_features=300, bias=True)\n",
       "      (1): ReLU()\n",
       "    )\n",
       "    (layer_norm_3): LayerNorm((300,), eps=1e-05, elementwise_affine=True)\n",
       "    (dropout_2): Dropout(p=0.5, inplace=False)\n",
       "    (out): Sequential(\n",
       "      (0): Linear(in_features=300, out_features=4034, bias=True)\n",
       "    )\n",
       "  )\n",
       ")"
      ]
     },
     "execution_count": 1,
     "metadata": {},
     "output_type": "execute_result"
    }
   ],
   "execution_count": 1
  },
  {
   "metadata": {
    "ExecuteTime": {
     "end_time": "2025-05-10T11:43:41.048094Z",
     "start_time": "2025-05-10T11:43:39.541386Z"
    }
   },
   "cell_type": "code",
   "source": [
    "from data.StanfordParagraphDataset import StandfordParagraphDataset\n",
    "\n",
    "test_path = os.path.join(BASE_DIR, \"dataset/stanford_Image_Paragraph_Captioning_dataset\", \"test.csv\")\n",
    "test_dataset = StandfordParagraphDataset(test_path)\n",
    "test_dataset[0][1].shape"
   ],
   "id": "e2891268fab7a614",
   "outputs": [
    {
     "data": {
      "text/plain": [
       "torch.Size([3, 224, 224])"
      ]
     },
     "execution_count": 2,
     "metadata": {},
     "output_type": "execute_result"
    }
   ],
   "execution_count": 2
  },
  {
   "metadata": {
    "ExecuteTime": {
     "end_time": "2025-05-10T11:44:54.598777Z",
     "start_time": "2025-05-10T11:44:54.503623Z"
    }
   },
   "cell_type": "code",
   "source": [
    "from settings import BASE_DIR, DEVICE\n",
    "print(DEVICE)\n",
    "model.to(DEVICE)\n",
    "text = model.generate_caption(test_dataset[5][1])\n",
    "text"
   ],
   "id": "8948f7c45575de4b",
   "outputs": [
    {
     "name": "stdout",
     "output_type": "stream",
     "text": [
      "cuda\n"
     ]
    },
    {
     "data": {
      "text/plain": [
       "'a white plate is sitting on a table . there is a white plate on the plate . there is a white plate on the table . there is a white plate on the table .'"
      ]
     },
     "execution_count": 7,
     "metadata": {},
     "output_type": "execute_result"
    }
   ],
   "execution_count": 7
  },
  {
   "metadata": {},
   "cell_type": "code",
   "outputs": [],
   "execution_count": null,
   "source": "",
   "id": "36145ebab805a299"
  }
 ],
 "metadata": {
  "kernelspec": {
   "display_name": "Python [conda env:base] *",
   "language": "python",
   "name": "conda-base-py"
  },
  "language_info": {
   "codemirror_mode": {
    "name": "ipython",
    "version": 2
   },
   "file_extension": ".py",
   "mimetype": "text/x-python",
   "name": "python",
   "nbconvert_exporter": "python",
   "pygments_lexer": "ipython2",
   "version": "2.7.6"
  }
 },
 "nbformat": 4,
 "nbformat_minor": 5
}
