{
 "cells": [
  {
   "cell_type": "code",
   "id": "initial_id",
   "metadata": {
    "collapsed": true,
    "ExecuteTime": {
     "end_time": "2025-05-02T09:33:10.336174Z",
     "start_time": "2025-05-02T09:33:08.653394Z"
    }
   },
   "source": [
    "import pandas as pd\n",
    "import os\n",
    "\n",
    "from settings import BASE_DIR"
   ],
   "outputs": [],
   "execution_count": 3
  },
  {
   "metadata": {
    "ExecuteTime": {
     "end_time": "2025-05-02T09:33:10.774602Z",
     "start_time": "2025-05-02T09:33:10.694014Z"
    }
   },
   "cell_type": "code",
   "source": [
    "data_path = os.path.join(BASE_DIR, 'dataset/stanford_Image_Paragraph_Captioning_dataset/train.csv')\n",
    "df = pd.read_csv(data_path)\n",
    "df.head()"
   ],
   "id": "c901fcb1734be3d6",
   "outputs": [
    {
     "data": {
      "text/plain": [
       "                                          Image_name  \\\n",
       "0  E:\\python_prj\\dataset/stanford_Image_Paragraph...   \n",
       "1  E:\\python_prj\\dataset/stanford_Image_Paragraph...   \n",
       "2  E:\\python_prj\\dataset/stanford_Image_Paragraph...   \n",
       "3  E:\\python_prj\\dataset/stanford_Image_Paragraph...   \n",
       "4  E:\\python_prj\\dataset/stanford_Image_Paragraph...   \n",
       "\n",
       "                                           Paragraph  \\\n",
       "0  a white round plate is on a table with a plast...   \n",
       "1  a large red and white train is traveling on tr...   \n",
       "2  a very clean and tidy a bathroom . everything ...   \n",
       "3  there are four small pizzas on a brown wooden ...   \n",
       "4  a black and white cat is sitting in a white ch...   \n",
       "\n",
       "                                                 url  \n",
       "0  https://cs.stanford.edu/people/rak248/VG_100K/...  \n",
       "1  https://cs.stanford.edu/people/rak248/VG_100K/...  \n",
       "2  https://cs.stanford.edu/people/rak248/VG_100K_...  \n",
       "3  https://cs.stanford.edu/people/rak248/VG_100K/...  \n",
       "4  https://cs.stanford.edu/people/rak248/VG_100K/...  "
      ],
      "text/html": [
       "<div>\n",
       "<style scoped>\n",
       "    .dataframe tbody tr th:only-of-type {\n",
       "        vertical-align: middle;\n",
       "    }\n",
       "\n",
       "    .dataframe tbody tr th {\n",
       "        vertical-align: top;\n",
       "    }\n",
       "\n",
       "    .dataframe thead th {\n",
       "        text-align: right;\n",
       "    }\n",
       "</style>\n",
       "<table border=\"1\" class=\"dataframe\">\n",
       "  <thead>\n",
       "    <tr style=\"text-align: right;\">\n",
       "      <th></th>\n",
       "      <th>Image_name</th>\n",
       "      <th>Paragraph</th>\n",
       "      <th>url</th>\n",
       "    </tr>\n",
       "  </thead>\n",
       "  <tbody>\n",
       "    <tr>\n",
       "      <th>0</th>\n",
       "      <td>E:\\python_prj\\dataset/stanford_Image_Paragraph...</td>\n",
       "      <td>a white round plate is on a table with a plast...</td>\n",
       "      <td>https://cs.stanford.edu/people/rak248/VG_100K/...</td>\n",
       "    </tr>\n",
       "    <tr>\n",
       "      <th>1</th>\n",
       "      <td>E:\\python_prj\\dataset/stanford_Image_Paragraph...</td>\n",
       "      <td>a large red and white train is traveling on tr...</td>\n",
       "      <td>https://cs.stanford.edu/people/rak248/VG_100K/...</td>\n",
       "    </tr>\n",
       "    <tr>\n",
       "      <th>2</th>\n",
       "      <td>E:\\python_prj\\dataset/stanford_Image_Paragraph...</td>\n",
       "      <td>a very clean and tidy a bathroom . everything ...</td>\n",
       "      <td>https://cs.stanford.edu/people/rak248/VG_100K_...</td>\n",
       "    </tr>\n",
       "    <tr>\n",
       "      <th>3</th>\n",
       "      <td>E:\\python_prj\\dataset/stanford_Image_Paragraph...</td>\n",
       "      <td>there are four small pizzas on a brown wooden ...</td>\n",
       "      <td>https://cs.stanford.edu/people/rak248/VG_100K/...</td>\n",
       "    </tr>\n",
       "    <tr>\n",
       "      <th>4</th>\n",
       "      <td>E:\\python_prj\\dataset/stanford_Image_Paragraph...</td>\n",
       "      <td>a black and white cat is sitting in a white ch...</td>\n",
       "      <td>https://cs.stanford.edu/people/rak248/VG_100K/...</td>\n",
       "    </tr>\n",
       "  </tbody>\n",
       "</table>\n",
       "</div>"
      ]
     },
     "execution_count": 4,
     "metadata": {},
     "output_type": "execute_result"
    }
   ],
   "execution_count": 4
  },
  {
   "metadata": {},
   "cell_type": "code",
   "outputs": [],
   "execution_count": null,
   "source": "",
   "id": "c952293253c4b23d"
  }
 ],
 "metadata": {
  "kernelspec": {
   "display_name": "Python [conda env:base] *",
   "language": "python",
   "name": "conda-base-py"
  },
  "language_info": {
   "codemirror_mode": {
    "name": "ipython",
    "version": 2
   },
   "file_extension": ".py",
   "mimetype": "text/x-python",
   "name": "python",
   "nbconvert_exporter": "python",
   "pygments_lexer": "ipython2",
   "version": "2.7.6"
  }
 },
 "nbformat": 4,
 "nbformat_minor": 5
}
